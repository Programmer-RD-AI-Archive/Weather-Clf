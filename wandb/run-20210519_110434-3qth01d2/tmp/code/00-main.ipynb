{
 "cells": [
  {
   "cell_type": "code",
   "execution_count": 1,
   "metadata": {},
   "outputs": [],
   "source": [
    "test_index = 0"
   ]
  },
  {
   "cell_type": "markdown",
   "metadata": {},
   "source": [
    "#### testing"
   ]
  },
  {
   "cell_type": "code",
   "execution_count": 2,
   "metadata": {},
   "outputs": [],
   "source": [
    "from load_data import *"
   ]
  },
  {
   "cell_type": "code",
   "execution_count": 3,
   "metadata": {},
   "outputs": [],
   "source": [
    "# load_data()"
   ]
  },
  {
   "cell_type": "markdown",
   "metadata": {},
   "source": [
    "## Loading the data"
   ]
  },
  {
   "cell_type": "code",
   "execution_count": 4,
   "metadata": {},
   "outputs": [],
   "source": [
    "from load_data import *"
   ]
  },
  {
   "cell_type": "code",
   "execution_count": 5,
   "metadata": {},
   "outputs": [
    {
     "name": "stdout",
     "output_type": "stream",
     "text": [
      "4\n",
      "OpenCV(4.5.1) /tmp/pip-req-build-hj027r8z/opencv/modules/imgproc/src/resize.cpp:4051: error: (-215:Assertion failed) !ssize.empty() in function 'resize'\n",
      "\n",
      "./data/data/Shine/shine131.jpg\n",
      "OpenCV(4.5.1) /tmp/pip-req-build-hj027r8z/opencv/modules/imgproc/src/resize.cpp:4051: error: (-215:Assertion failed) !ssize.empty() in function 'resize'\n",
      "\n",
      "./data/data/Rain/rain141.jpg\n"
     ]
    },
    {
     "name": "stderr",
     "output_type": "stream",
     "text": [
      "/home/indika/anaconda3/lib/python3.7/site-packages/numpy/core/_asarray.py:136: VisibleDeprecationWarning: Creating an ndarray from ragged nested sequences (which is a list-or-tuple of lists-or-tuples-or ndarrays with different lengths or shapes) is deprecated. If you meant to do this, you must specify 'dtype=object' when creating the ndarray\n",
      "  return array(a, dtype, copy=False, order=order, subok=True)\n"
     ]
    }
   ],
   "source": [
    "X_train,X_test,y_train,y_test = load_data()"
   ]
  },
  {
   "cell_type": "code",
   "execution_count": 6,
   "metadata": {},
   "outputs": [
    {
     "data": {
      "text/plain": [
       "(843, 843)"
      ]
     },
     "execution_count": 6,
     "metadata": {},
     "output_type": "execute_result"
    }
   ],
   "source": [
    "len(X_train),len(y_train)"
   ]
  },
  {
   "cell_type": "code",
   "execution_count": 7,
   "metadata": {},
   "outputs": [
    {
     "data": {
      "text/plain": [
       "(280, 280)"
      ]
     },
     "execution_count": 7,
     "metadata": {},
     "output_type": "execute_result"
    }
   ],
   "source": [
    "len(X_test),len(y_test)"
   ]
  },
  {
   "cell_type": "markdown",
   "metadata": {},
   "source": [
    "## Test Modelling"
   ]
  },
  {
   "cell_type": "code",
   "execution_count": 8,
   "metadata": {},
   "outputs": [],
   "source": [
    "import torch\n",
    "import torch.nn as nn\n",
    "import torch.optim as optim\n",
    "import torch.nn.functional as F"
   ]
  },
  {
   "cell_type": "code",
   "execution_count": 9,
   "metadata": {},
   "outputs": [],
   "source": [
    "class Test_Model(nn.Module):\n",
    "    def __init__(self) -> None:\n",
    "        super().__init__()\n",
    "        self.c1 = nn.Conv2d(1,64,5)\n",
    "        self.c2 = nn.Conv2d(64,128,5)\n",
    "        self.c3 = nn.Conv2d(128,256,5)\n",
    "        self.fc4 = nn.Linear(256*10*10,256)\n",
    "        self.fc6 = nn.Linear(256,128)\n",
    "        self.fc5 = nn.Linear(128,4)\n",
    "    \n",
    "    def forward(self,X):\n",
    "        preds = F.max_pool2d(F.relu(self.c1(X)),(2,2))\n",
    "        preds = F.max_pool2d(F.relu(self.c2(preds)),(2,2))\n",
    "        preds = F.max_pool2d(F.relu(self.c3(preds)),(2,2))\n",
    "#         print(preds.shape)\n",
    "        preds = preds.view(-1,256*10*10)\n",
    "        preds = F.relu(self.fc4(preds))\n",
    "        preds = F.relu(self.fc6(preds))\n",
    "        preds = self.fc5(preds)\n",
    "        return preds"
   ]
  },
  {
   "cell_type": "code",
   "execution_count": 10,
   "metadata": {},
   "outputs": [],
   "source": [
    "device = torch.device('cuda')"
   ]
  },
  {
   "cell_type": "code",
   "execution_count": 11,
   "metadata": {},
   "outputs": [],
   "source": [
    "BATCH_SIZE = 32"
   ]
  },
  {
   "cell_type": "code",
   "execution_count": 12,
   "metadata": {},
   "outputs": [],
   "source": [
    "IMG_SIZE = 112"
   ]
  },
  {
   "cell_type": "code",
   "execution_count": 13,
   "metadata": {},
   "outputs": [],
   "source": [
    "model = Test_Model().to(device)\n",
    "optimizer = optim.SGD(model.parameters(),lr=0.1)\n",
    "criterion = nn.CrossEntropyLoss()"
   ]
  },
  {
   "cell_type": "code",
   "execution_count": 14,
   "metadata": {},
   "outputs": [],
   "source": [
    "EPOCHS = 125"
   ]
  },
  {
   "cell_type": "code",
   "execution_count": 15,
   "metadata": {},
   "outputs": [],
   "source": [
    "from tqdm import tqdm"
   ]
  },
  {
   "cell_type": "code",
   "execution_count": 16,
   "metadata": {},
   "outputs": [],
   "source": [
    "PROJECT_NAME = 'Weather-Clf'"
   ]
  },
  {
   "cell_type": "code",
   "execution_count": 17,
   "metadata": {},
   "outputs": [],
   "source": [
    "import wandb"
   ]
  },
  {
   "cell_type": "code",
   "execution_count": 18,
   "metadata": {},
   "outputs": [],
   "source": [
    "# test_index += 1\n",
    "# wandb.init(project=PROJECT_NAME,name=f'test')\n",
    "# for _ in tqdm(range(EPOCHS)):\n",
    "#     for i in range(0,len(X_train),BATCH_SIZE):\n",
    "#         X_batch = X_train[i:i+BATCH_SIZE].view(-1,1,112,112).to(device)\n",
    "#         y_batch = y_train[i:i+BATCH_SIZE].to(device)\n",
    "#         model.to(device)\n",
    "#         preds = model(X_batch.float())\n",
    "#         preds.to(device)\n",
    "#         loss = criterion(preds,torch.tensor(y_batch,dtype=torch.long))\n",
    "#         optimizer.zero_grad()\n",
    "#         loss.backward()\n",
    "#         optimizer.step()\n",
    "#         wandb.log({'loss':loss.item()})\n",
    "# wandb.finish()"
   ]
  },
  {
   "cell_type": "code",
   "execution_count": 19,
   "metadata": {},
   "outputs": [],
   "source": [
    "# for index in range(10):\n",
    "#     print(torch.argmax(preds[index]))\n",
    "#     print(y_batch[index])\n",
    "#     print('\\n')"
   ]
  },
  {
   "cell_type": "code",
   "execution_count": 20,
   "metadata": {},
   "outputs": [],
   "source": [
    "class Test_Model(nn.Module):\n",
    "    def __init__(self):\n",
    "        super().__init__()\n",
    "        self.conv1 = nn.Conv2d(1,16,5)\n",
    "        self.conv2 = nn.Conv2d(16,32,5)\n",
    "        self.conv3 = nn.Conv2d(32,64,5)\n",
    "        self.fc1 = nn.Linear(64*10*10,16)\n",
    "        self.fc2 = nn.Linear(16,32)\n",
    "        self.fc3 = nn.Linear(32,64)\n",
    "        self.fc4 = nn.Linear(64,32)\n",
    "        self.fc5 = nn.Linear(32,6)\n",
    "    \n",
    "    def forward(self,X):\n",
    "        preds = F.max_pool2d(F.relu(self.conv1(X)),(2,2))\n",
    "        preds = F.max_pool2d(F.relu(self.conv2(preds)),(2,2))\n",
    "        preds = F.max_pool2d(F.relu(self.conv3(preds)),(2,2))\n",
    "#         print(preds.shape)\n",
    "        preds = preds.view(-1,64*10*10)\n",
    "        preds = F.relu(self.fc1(preds))\n",
    "        preds = F.relu(self.fc2(preds))\n",
    "        preds = F.relu(self.fc3(preds))\n",
    "        preds = F.relu(self.fc4(preds))\n",
    "        preds = F.relu(self.fc5(preds))\n",
    "        return preds"
   ]
  },
  {
   "cell_type": "code",
   "execution_count": 21,
   "metadata": {},
   "outputs": [],
   "source": [
    "model = Test_Model().to(device)\n",
    "optimizer = optim.SGD(model.parameters(),lr=0.1)\n",
    "criterion = nn.CrossEntropyLoss()"
   ]
  },
  {
   "cell_type": "code",
   "execution_count": 22,
   "metadata": {},
   "outputs": [],
   "source": [
    "# test_index += 1\n",
    "# wandb.init(project=PROJECT_NAME,name=f'test-{test_index}')\n",
    "# for _ in tqdm(range(EPOCHS)):\n",
    "#     for i in range(0,len(X_train),BATCH_SIZE):\n",
    "#         X_batch = X_train[i:i+BATCH_SIZE].view(-1,1,112,112).to(device)\n",
    "#         y_batch = y_train[i:i+BATCH_SIZE].to(device)\n",
    "#         model.to(device)\n",
    "#         preds = model(X_batch.float())\n",
    "#         preds.to(device)\n",
    "#         loss = criterion(preds,torch.tensor(y_batch,dtype=torch.long))\n",
    "#         optimizer.zero_grad()\n",
    "#         loss.backward()\n",
    "#         optimizer.step()\n",
    "#         wandb.log({'loss':loss.item()})\n",
    "# wandb.finish()"
   ]
  },
  {
   "cell_type": "markdown",
   "metadata": {},
   "source": [
    "## Modelling"
   ]
  },
  {
   "cell_type": "code",
   "execution_count": 23,
   "metadata": {},
   "outputs": [],
   "source": [
    "class Test_Model(nn.Module):\n",
    "    def __init__(self,conv1_output=16,conv2_output=32,conv3_output=64,fc1_output=16,fc2_output=32,fc3_output=64,activation=F.relu):\n",
    "        super().__init__()\n",
    "        self.conv3_output = conv3_output\n",
    "        self.conv1 = nn.Conv2d(1,conv1_output,5)\n",
    "        self.conv2 = nn.Conv2d(conv1_output,conv2_output,5)\n",
    "        self.conv3 = nn.Conv2d(conv2_output,conv3_output,5)\n",
    "        self.fc1 = nn.Linear(conv3_output*10*10,fc1_output)\n",
    "        self.fc2 = nn.Linear(fc1_output,fc2_output)\n",
    "        self.fc3 = nn.Linear(fc2_output,fc3_output)\n",
    "        self.fc4 = nn.Linear(fc3_output,fc2_output)\n",
    "        self.fc5 = nn.Linear(fc2_output,6)\n",
    "        self.activation = activation\n",
    "    \n",
    "    def forward(self,X):\n",
    "        preds = F.max_pool2d(self.activation(self.conv1(X)),(2,2))\n",
    "        preds = F.max_pool2d(self.activation(self.conv2(preds)),(2,2))\n",
    "        preds = F.max_pool2d(self.activation(self.conv3(preds)),(2,2))\n",
    "#         print(preds.shape)\n",
    "        preds = preds.view(-1,self.conv3_output*10*10)\n",
    "        preds = self.activation(self.fc1(preds))\n",
    "        preds = self.activation(self.fc2(preds))\n",
    "        preds = self.activation(self.fc3(preds))\n",
    "        preds = self.activation(self.fc4(preds))\n",
    "        preds = self.activation(self.fc5(preds))\n",
    "        return preds"
   ]
  },
  {
   "cell_type": "code",
   "execution_count": 24,
   "metadata": {},
   "outputs": [],
   "source": [
    "# conv1_output = 32\n",
    "# conv2_output = 8\n",
    "# conv3_output = 64\n",
    "# fc1_output = 512\n",
    "\n",
    "# fc2_output = \n",
    "\n",
    "# fc3_output\n",
    "# activation\n",
    "# optimizer\n",
    "# loss\n",
    "# lr\n",
    "# num of epochs"
   ]
  },
  {
   "cell_type": "code",
   "execution_count": null,
   "metadata": {},
   "outputs": [],
   "source": [
    "def get_loss(criterion,y,model,X):\n",
    "    model.to('cpu')\n",
    "    preds = model(X.view(-1,1,112,112).to('cpu').float())\n",
    "    preds.to('cpu')\n",
    "    loss = criterion(preds,torch.tensor(y,dtype=torch.long).to('cpu'))\n",
    "    loss.backward()\n",
    "    return loss.item()"
   ]
  },
  {
   "cell_type": "code",
   "execution_count": null,
   "metadata": {},
   "outputs": [],
   "source": [
    "def test(net,X,y):\n",
    "    device = 'cpu'\n",
    "    net.to(device)\n",
    "    correct = 0\n",
    "    total = 0\n",
    "    net.eval()\n",
    "    with torch.no_grad():\n",
    "        for i in range(len(X)):\n",
    "            real_class = torch.argmax(y[i]).to(device)\n",
    "            net_out = net(X[i].view(-1,1,112,112).to(device).float())\n",
    "            net_out = net_out[0]\n",
    "            predictied_class = torch.argmax(net_out)\n",
    "            if predictied_class == real_class:\n",
    "                correct += 1\n",
    "            total += 1\n",
    "    net.train()\n",
    "    net.to('cuda')\n",
    "    return round(correct/total,3)"
   ]
  },
  {
   "cell_type": "code",
   "execution_count": null,
   "metadata": {},
   "outputs": [],
   "source": [
    "EPOCHS = 3"
   ]
  },
  {
   "cell_type": "code",
   "execution_count": null,
   "metadata": {},
   "outputs": [
    {
     "name": "stderr",
     "output_type": "stream",
     "text": [
      "\u001b[34m\u001b[1mwandb\u001b[0m: Currently logged in as: \u001b[33mranuga-d\u001b[0m (use `wandb login --relogin` to force relogin)\n"
     ]
    },
    {
     "data": {
      "text/html": [
       "\n",
       "                Tracking run with wandb version 0.10.30<br/>\n",
       "                Syncing run <strong style=\"color:#cdcd00\">fc2_output-64</strong> to <a href=\"https://wandb.ai\" target=\"_blank\">Weights & Biases</a> <a href=\"https://docs.wandb.com/integrations/jupyter.html\" target=\"_blank\">(Documentation)</a>.<br/>\n",
       "                Project page: <a href=\"https://wandb.ai/ranuga-d/Weather-Clf\" target=\"_blank\">https://wandb.ai/ranuga-d/Weather-Clf</a><br/>\n",
       "                Run page: <a href=\"https://wandb.ai/ranuga-d/Weather-Clf/runs/3qth01d2\" target=\"_blank\">https://wandb.ai/ranuga-d/Weather-Clf/runs/3qth01d2</a><br/>\n",
       "                Run data is saved locally in <code>/home/indika/Programming/Projects/Python/Artifical-Intelligence/PyTorch/CNN/Weather-Clf/wandb/run-20210519_110434-3qth01d2</code><br/><br/>\n",
       "            "
      ],
      "text/plain": [
       "<IPython.core.display.HTML object>"
      ]
     },
     "metadata": {},
     "output_type": "display_data"
    },
    {
     "name": "stderr",
     "output_type": "stream",
     "text": [
      "  0%|          | 0/3 [00:00<?, ?it/s]/home/indika/anaconda3/lib/python3.7/site-packages/ipykernel_launcher.py:14: UserWarning: To copy construct from a tensor, it is recommended to use sourceTensor.clone().detach() or sourceTensor.clone().detach().requires_grad_(True), rather than torch.tensor(sourceTensor).\n",
      "  \n",
      "/home/indika/anaconda3/lib/python3.7/site-packages/ipykernel_launcher.py:5: UserWarning: To copy construct from a tensor, it is recommended to use sourceTensor.clone().detach() or sourceTensor.clone().detach().requires_grad_(True), rather than torch.tensor(sourceTensor).\n",
      "  \"\"\"\n",
      " 67%|██████▋   | 2/3 [07:23<03:39, 219.01s/it]"
     ]
    }
   ],
   "source": [
    "fc3_outputs = [64,128,256,512]\n",
    "for fc3_output in fc3_outputs:\n",
    "    wandb.init(project=PROJECT_NAME,name=f'fc3_output-{fc3_output}')\n",
    "    model = Test_Model(conv1_output=32,conv2_output=8,conv3_output=64,fc1_output=512,fc3_output=fc3_output,fc2_output=512).to(device)\n",
    "    optimizer = optim.SGD(model.parameters(),lr=0.1)\n",
    "    criterion = nn.CrossEntropyLoss()\n",
    "    for _ in tqdm(range(EPOCHS)):\n",
    "        for i in range(0,len(X_train),BATCH_SIZE):\n",
    "            X_batch = X_train[i:i+BATCH_SIZE].view(-1,1,112,112).to(device)\n",
    "            y_batch = y_train[i:i+BATCH_SIZE].to(device)\n",
    "            model.to(device)\n",
    "            preds = model(X_batch.float())\n",
    "            preds.to(device)\n",
    "            loss = criterion(preds,torch.tensor(y_batch,dtype=torch.long))\n",
    "            optimizer.zero_grad()\n",
    "            loss.backward()\n",
    "            optimizer.step()\n",
    "            wandb.log({'loss':get_loss(criterion,y_train,model,X_train),'accuracy':test(model,X_train,y_train),'val_accuracy':test(model,X_test,y_test),'val_loss':get_loss(criterion,y_test,model,X_test)})\n",
    "    for index in range(10):\n",
    "        print(torch.argmax(preds[index]))\n",
    "        print(y_batch[index])\n",
    "        print('\\n')\n",
    "    wandb.finish()"
   ]
  },
  {
   "cell_type": "code",
   "execution_count": null,
   "metadata": {},
   "outputs": [],
   "source": [
    "# fc2_outputs = [64,128,256,512]\n",
    "# for fc2_output in fc2_outputs:\n",
    "#     wandb.init(project=PROJECT_NAME,name=f'fc2_output-{fc2_output}')\n",
    "#     model = Test_Model(conv1_output=32,conv2_output=8,conv3_output=64,fc1_output=512,fc2_output=fc2_output).to(device)\n",
    "#     optimizer = optim.SGD(model.parameters(),lr=0.1)\n",
    "#     criterion = nn.CrossEntropyLoss()\n",
    "#     for _ in tqdm(range(EPOCHS)):\n",
    "#         for i in range(0,len(X_train),BATCH_SIZE):\n",
    "#             X_batch = X_train[i:i+BATCH_SIZE].view(-1,1,112,112).to(device)\n",
    "#             y_batch = y_train[i:i+BATCH_SIZE].to(device)\n",
    "#             model.to(device)\n",
    "#             preds = model(X_batch.float())\n",
    "#             preds.to(device)\n",
    "#             loss = criterion(preds,torch.tensor(y_batch,dtype=torch.long))\n",
    "#             optimizer.zero_grad()\n",
    "#             loss.backward()\n",
    "#             optimizer.step()\n",
    "#             wandb.log({'loss':get_loss(criterion,y_train,model,X_train),'accuracy':test(model,X_train,y_train),'val_accuracy':test(model,X_test,y_test),'val_loss':get_loss(criterion,y_test,model,X_test)})\n",
    "#     for index in range(10):\n",
    "#         print(torch.argmax(preds[index]))\n",
    "#         print(y_batch[index])\n",
    "#         print('\\n')\n",
    "#     wandb.finish()"
   ]
  },
  {
   "cell_type": "code",
   "execution_count": null,
   "metadata": {},
   "outputs": [],
   "source": []
  },
  {
   "cell_type": "code",
   "execution_count": null,
   "metadata": {},
   "outputs": [],
   "source": []
  },
  {
   "cell_type": "code",
   "execution_count": null,
   "metadata": {},
   "outputs": [],
   "source": []
  },
  {
   "cell_type": "code",
   "execution_count": null,
   "metadata": {},
   "outputs": [],
   "source": []
  }
 ],
 "metadata": {
  "kernelspec": {
   "display_name": "Python 3.7.3 64-bit ('base': conda)",
   "language": "python",
   "name": "python373jvsc74a57bd0210f9608a45c0278a93c9e0b10db32a427986ab48cfc0d20c139811eb78c4bbc"
  },
  "language_info": {
   "codemirror_mode": {
    "name": "ipython",
    "version": 3
   },
   "file_extension": ".py",
   "mimetype": "text/x-python",
   "name": "python",
   "nbconvert_exporter": "python",
   "pygments_lexer": "ipython3",
   "version": "3.7.3"
  }
 },
 "nbformat": 4,
 "nbformat_minor": 2
}
