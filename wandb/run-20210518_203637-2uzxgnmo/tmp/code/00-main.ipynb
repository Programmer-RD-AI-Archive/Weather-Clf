{
 "cells": [
  {
   "cell_type": "code",
   "execution_count": 1,
   "metadata": {},
   "outputs": [],
   "source": [
    "test_index = 0"
   ]
  },
  {
   "cell_type": "markdown",
   "metadata": {},
   "source": [
    "#### testing"
   ]
  },
  {
   "cell_type": "code",
   "execution_count": 2,
   "metadata": {},
   "outputs": [],
   "source": [
    "from load_data import *"
   ]
  },
  {
   "cell_type": "code",
   "execution_count": 3,
   "metadata": {},
   "outputs": [],
   "source": [
    "# load_data()"
   ]
  },
  {
   "cell_type": "markdown",
   "metadata": {},
   "source": [
    "## Loading the data"
   ]
  },
  {
   "cell_type": "code",
   "execution_count": 4,
   "metadata": {},
   "outputs": [],
   "source": [
    "from load_data import *"
   ]
  },
  {
   "cell_type": "code",
   "execution_count": 5,
   "metadata": {},
   "outputs": [
    {
     "name": "stdout",
     "output_type": "stream",
     "text": [
      "4\n",
      "OpenCV(4.5.1) /tmp/pip-req-build-hj027r8z/opencv/modules/imgproc/src/resize.cpp:4051: error: (-215:Assertion failed) !ssize.empty() in function 'resize'\n",
      "\n",
      "./data/data/Shine/shine131.jpg\n",
      "OpenCV(4.5.1) /tmp/pip-req-build-hj027r8z/opencv/modules/imgproc/src/resize.cpp:4051: error: (-215:Assertion failed) !ssize.empty() in function 'resize'\n",
      "\n",
      "./data/data/Rain/rain141.jpg\n"
     ]
    },
    {
     "name": "stderr",
     "output_type": "stream",
     "text": [
      "/home/indika/anaconda3/lib/python3.7/site-packages/numpy/core/_asarray.py:136: VisibleDeprecationWarning: Creating an ndarray from ragged nested sequences (which is a list-or-tuple of lists-or-tuples-or ndarrays with different lengths or shapes) is deprecated. If you meant to do this, you must specify 'dtype=object' when creating the ndarray\n",
      "  return array(a, dtype, copy=False, order=order, subok=True)\n"
     ]
    }
   ],
   "source": [
    "X_train,X_test,y_train,y_test = load_data()"
   ]
  },
  {
   "cell_type": "code",
   "execution_count": 6,
   "metadata": {},
   "outputs": [
    {
     "data": {
      "text/plain": [
       "(843, 843)"
      ]
     },
     "execution_count": 6,
     "metadata": {},
     "output_type": "execute_result"
    }
   ],
   "source": [
    "len(X_train),len(y_train)"
   ]
  },
  {
   "cell_type": "code",
   "execution_count": 7,
   "metadata": {},
   "outputs": [
    {
     "data": {
      "text/plain": [
       "(280, 280)"
      ]
     },
     "execution_count": 7,
     "metadata": {},
     "output_type": "execute_result"
    }
   ],
   "source": [
    "len(X_test),len(y_test)"
   ]
  },
  {
   "cell_type": "markdown",
   "metadata": {},
   "source": [
    "## Test Modelling"
   ]
  },
  {
   "cell_type": "code",
   "execution_count": 8,
   "metadata": {},
   "outputs": [],
   "source": [
    "import torch\n",
    "import torch.nn as nn\n",
    "import torch.optim as optim\n",
    "import torch.nn.functional as F"
   ]
  },
  {
   "cell_type": "code",
   "execution_count": 9,
   "metadata": {},
   "outputs": [],
   "source": [
    "class Test_Model(nn.Module):\n",
    "    def __init__(self) -> None:\n",
    "        super().__init__()\n",
    "        self.c1 = nn.Conv2d(1,64,5)\n",
    "        self.c2 = nn.Conv2d(64,128,5)\n",
    "        self.c3 = nn.Conv2d(128,256,5)\n",
    "        self.fc4 = nn.Linear(256*10*10,256)\n",
    "        self.fc6 = nn.Linear(256,128)\n",
    "        self.fc5 = nn.Linear(128,4)\n",
    "    \n",
    "    def forward(self,X):\n",
    "        preds = F.max_pool2d(F.relu(self.c1(X)),(2,2))\n",
    "        preds = F.max_pool2d(F.relu(self.c2(preds)),(2,2))\n",
    "        preds = F.max_pool2d(F.relu(self.c3(preds)),(2,2))\n",
    "#         print(preds.shape)\n",
    "        preds = preds.view(-1,256*10*10)\n",
    "        preds = F.relu(self.fc4(preds))\n",
    "        preds = F.relu(self.fc6(preds))\n",
    "        preds = self.fc5(preds)\n",
    "        return preds"
   ]
  },
  {
   "cell_type": "code",
   "execution_count": 10,
   "metadata": {},
   "outputs": [],
   "source": [
    "device = torch.device('cuda')"
   ]
  },
  {
   "cell_type": "code",
   "execution_count": 11,
   "metadata": {},
   "outputs": [],
   "source": [
    "BATCH_SIZE = 32"
   ]
  },
  {
   "cell_type": "code",
   "execution_count": 12,
   "metadata": {},
   "outputs": [],
   "source": [
    "IMG_SIZE = 112"
   ]
  },
  {
   "cell_type": "code",
   "execution_count": 13,
   "metadata": {},
   "outputs": [],
   "source": [
    "model = Test_Model().to(device)\n",
    "optimizer = optim.SGD(model.parameters(),lr=0.1)\n",
    "criterion = nn.CrossEntropyLoss()"
   ]
  },
  {
   "cell_type": "code",
   "execution_count": 14,
   "metadata": {},
   "outputs": [],
   "source": [
    "EPOCHS = 12"
   ]
  },
  {
   "cell_type": "code",
   "execution_count": 15,
   "metadata": {},
   "outputs": [],
   "source": [
    "from tqdm import tqdm"
   ]
  },
  {
   "cell_type": "code",
   "execution_count": 16,
   "metadata": {},
   "outputs": [],
   "source": [
    "PROJECT_NAME = 'Weather-Clf'"
   ]
  },
  {
   "cell_type": "code",
   "execution_count": 17,
   "metadata": {},
   "outputs": [],
   "source": [
    "import wandb"
   ]
  },
  {
   "cell_type": "code",
   "execution_count": 18,
   "metadata": {},
   "outputs": [],
   "source": [
    "# test_index += 1\n",
    "# wandb.init(project=PROJECT_NAME,name=f'test-{test_index}')\n",
    "# for _ in tqdm(range(EPOCHS)):\n",
    "#     for i in range(0,len(X_train),BATCH_SIZE):\n",
    "#         X_batch = X_train[i:i+BATCH_SIZE].view(-1,1,112,112).to(device)\n",
    "#         y_batch = y_train[i:i+BATCH_SIZE].to(device)\n",
    "#         model.to(device)\n",
    "#         preds = model(X_batch.float())\n",
    "#         preds.to(device)\n",
    "#         loss = criterion(preds,torch.tensor(y_batch,dtype=torch.long))\n",
    "#         optimizer.zero_grad()\n",
    "#         loss.backward()\n",
    "#         optimizer.step()\n",
    "#         wandb.log({'loss':loss.item()})\n",
    "# wandb.finish()"
   ]
  },
  {
   "cell_type": "code",
   "execution_count": 19,
   "metadata": {},
   "outputs": [],
   "source": [
    "# for index in range(10):\n",
    "#     print(torch.argmax(preds[index]))\n",
    "#     print(y_batch[index])\n",
    "#     print('\\n')"
   ]
  },
  {
   "cell_type": "code",
   "execution_count": 20,
   "metadata": {},
   "outputs": [],
   "source": [
    "class Test_Model(nn.Module):\n",
    "    def __init__(self):\n",
    "        super().__init__()\n",
    "        self.conv1 = nn.Conv2d(1,64,5)\n",
    "        self.conv2 = nn.Conv2d(64,128,5)\n",
    "        self.conv3 = nn.Conv2d(128,256,5)\n",
    "        self.fc1 = nn.Linear(256*10*10,128)\n",
    "        self.fc2 = nn.Linear(128,256)\n",
    "        self.fc3 = nn.Linear(256,512)\n",
    "        self.fc4 = nn.Linear(512,256)\n",
    "        self.fc5 = nn.Linear(256,6)\n",
    "    \n",
    "    def forward(self,X):\n",
    "        preds = F.max_pool2d(F.relu(self.conv1(X)),(2,2))\n",
    "        preds = F.max_pool2d(F.relu(self.conv2(preds)),(2,2))\n",
    "        preds = F.max_pool2d(F.relu(self.conv3(preds)),(2,2))\n",
    "        print(preds.shape)\n",
    "        preds = preds.view(-1,256*10*10)\n",
    "        preds = F.relu(self.fc1(preds))\n",
    "        preds = F.relu(self.fc2(preds))\n",
    "        preds = F.relu(self.fc3(preds))\n",
    "        preds = F.relu(self.fc4(preds))\n",
    "        preds = F.relu(self.fc5(preds))\n",
    "        return preds"
   ]
  },
  {
   "cell_type": "code",
   "execution_count": 21,
   "metadata": {},
   "outputs": [],
   "source": [
    "model = Test_Model().to(device)\n",
    "optimizer = optim.SGD(model.parameters(),lr=0.1)\n",
    "criterion = nn.CrossEntropyLoss()"
   ]
  },
  {
   "cell_type": "code",
   "execution_count": 22,
   "metadata": {},
   "outputs": [
    {
     "name": "stderr",
     "output_type": "stream",
     "text": [
      "\u001b[34m\u001b[1mwandb\u001b[0m: Currently logged in as: \u001b[33mranuga-d\u001b[0m (use `wandb login --relogin` to force relogin)\n"
     ]
    },
    {
     "data": {
      "text/html": [
       "\n",
       "                Tracking run with wandb version 0.10.30<br/>\n",
       "                Syncing run <strong style=\"color:#cdcd00\">test-1</strong> to <a href=\"https://wandb.ai\" target=\"_blank\">Weights & Biases</a> <a href=\"https://docs.wandb.com/integrations/jupyter.html\" target=\"_blank\">(Documentation)</a>.<br/>\n",
       "                Project page: <a href=\"https://wandb.ai/ranuga-d/Weather-Clf\" target=\"_blank\">https://wandb.ai/ranuga-d/Weather-Clf</a><br/>\n",
       "                Run page: <a href=\"https://wandb.ai/ranuga-d/Weather-Clf/runs/3c4rx2nw\" target=\"_blank\">https://wandb.ai/ranuga-d/Weather-Clf/runs/3c4rx2nw</a><br/>\n",
       "                Run data is saved locally in <code>/home/indika/Programming/Projects/Python/Artifical-Intelligence/PyTorch/CNN/Weather-Clf/wandb/run-20210518_203424-3c4rx2nw</code><br/><br/>\n",
       "            "
      ],
      "text/plain": [
       "<IPython.core.display.HTML object>"
      ]
     },
     "metadata": {},
     "output_type": "display_data"
    },
    {
     "name": "stderr",
     "output_type": "stream",
     "text": [
      "  0%|          | 0/12 [00:00<?, ?it/s]"
     ]
    },
    {
     "name": "stdout",
     "output_type": "stream",
     "text": [
      "torch.Size([32, 256, 10, 10])\n",
      "torch.Size([32, 256, 10, 10])\n",
      "torch.Size([32, 256, 10, 10])\n",
      "torch.Size([32, 256, 10, 10])\n",
      "torch.Size([32, 256, 10, 10])\n",
      "torch.Size([32, 256, 10, 10])\n",
      "torch.Size([32, 256, 10, 10])\n",
      "torch.Size([32, 256, 10, 10])\n"
     ]
    },
    {
     "name": "stderr",
     "output_type": "stream",
     "text": [
      "/home/indika/anaconda3/lib/python3.7/site-packages/ipykernel_launcher.py:10: UserWarning: To copy construct from a tensor, it is recommended to use sourceTensor.clone().detach() or sourceTensor.clone().detach().requires_grad_(True), rather than torch.tensor(sourceTensor).\n",
      "  # Remove the CWD from sys.path while we load stuff.\n"
     ]
    },
    {
     "name": "stdout",
     "output_type": "stream",
     "text": [
      "torch.Size([32, 256, 10, 10])\n",
      "torch.Size([32, 256, 10, 10])\n",
      "torch.Size([32, 256, 10, 10])\n",
      "torch.Size([32, 256, 10, 10])\n",
      "torch.Size([32, 256, 10, 10])\n",
      "torch.Size([32, 256, 10, 10])\n",
      "torch.Size([32, 256, 10, 10])\n",
      "torch.Size([32, 256, 10, 10])\n",
      "torch.Size([32, 256, 10, 10])\n",
      "torch.Size([32, 256, 10, 10])\n",
      "torch.Size([32, 256, 10, 10])\n",
      "torch.Size([32, 256, 10, 10])\n",
      "torch.Size([32, 256, 10, 10])\n",
      "torch.Size([32, 256, 10, 10])\n",
      "torch.Size([32, 256, 10, 10])\n",
      "torch.Size([32, 256, 10, 10])\n"
     ]
    },
    {
     "name": "stderr",
     "output_type": "stream",
     "text": [
      "  8%|▊         | 1/12 [00:01<00:11,  1.05s/it]"
     ]
    },
    {
     "name": "stdout",
     "output_type": "stream",
     "text": [
      "torch.Size([32, 256, 10, 10])\n",
      "torch.Size([32, 256, 10, 10])\n",
      "torch.Size([11, 256, 10, 10])\n",
      "torch.Size([32, 256, 10, 10])\n",
      "torch.Size([32, 256, 10, 10])\n",
      "torch.Size([32, 256, 10, 10])\n",
      "torch.Size([32, 256, 10, 10])\n",
      "torch.Size([32, 256, 10, 10])\n",
      "torch.Size([32, 256, 10, 10])\n",
      "torch.Size([32, 256, 10, 10])\n",
      "torch.Size([32, 256, 10, 10])\n",
      "torch.Size([32, 256, 10, 10])\n",
      "torch.Size([32, 256, 10, 10])\n",
      "torch.Size([32, 256, 10, 10])\n",
      "torch.Size([32, 256, 10, 10])\n",
      "torch.Size([32, 256, 10, 10])\n",
      "torch.Size([32, 256, 10, 10])\n",
      "torch.Size([32, 256, 10, 10])\n",
      "torch.Size([32, 256, 10, 10])\n",
      "torch.Size([32, 256, 10, 10])\n",
      "torch.Size([32, 256, 10, 10])\n",
      "torch.Size([32, 256, 10, 10])\n",
      "torch.Size([32, 256, 10, 10])\n",
      "torch.Size([32, 256, 10, 10])\n",
      "torch.Size([32, 256, 10, 10])\n"
     ]
    },
    {
     "name": "stderr",
     "output_type": "stream",
     "text": [
      " 17%|█▋        | 2/12 [00:01<00:08,  1.19it/s]"
     ]
    },
    {
     "name": "stdout",
     "output_type": "stream",
     "text": [
      "torch.Size([32, 256, 10, 10])\n",
      "torch.Size([32, 256, 10, 10])\n",
      "torch.Size([32, 256, 10, 10])\n",
      "torch.Size([32, 256, 10, 10])\n",
      "torch.Size([11, 256, 10, 10])\n",
      "torch.Size([32, 256, 10, 10])\n",
      "torch.Size([32, 256, 10, 10])\n",
      "torch.Size([32, 256, 10, 10])\n",
      "torch.Size([32, 256, 10, 10])\n",
      "torch.Size([32, 256, 10, 10])\n",
      "torch.Size([32, 256, 10, 10])\n",
      "torch.Size([32, 256, 10, 10])\n",
      "torch.Size([32, 256, 10, 10])\n",
      "torch.Size([32, 256, 10, 10])\n",
      "torch.Size([32, 256, 10, 10])\n",
      "torch.Size([32, 256, 10, 10])\n",
      "torch.Size([32, 256, 10, 10])\n",
      "torch.Size([32, 256, 10, 10])\n",
      "torch.Size([32, 256, 10, 10])\n",
      "torch.Size([32, 256, 10, 10])\n",
      "torch.Size([32, 256, 10, 10])\n",
      "torch.Size([32, 256, 10, 10])\n",
      "torch.Size([32, 256, 10, 10])\n",
      "torch.Size([32, 256, 10, 10])\n",
      "torch.Size([32, 256, 10, 10])\n"
     ]
    },
    {
     "name": "stderr",
     "output_type": "stream",
     "text": [
      " 25%|██▌       | 3/12 [00:02<00:06,  1.30it/s]"
     ]
    },
    {
     "name": "stdout",
     "output_type": "stream",
     "text": [
      "torch.Size([32, 256, 10, 10])\n",
      "torch.Size([32, 256, 10, 10])\n",
      "torch.Size([32, 256, 10, 10])\n",
      "torch.Size([32, 256, 10, 10])\n",
      "torch.Size([32, 256, 10, 10])\n",
      "torch.Size([32, 256, 10, 10])\n",
      "torch.Size([11, 256, 10, 10])\n",
      "torch.Size([32, 256, 10, 10])\n",
      "torch.Size([32, 256, 10, 10])\n",
      "torch.Size([32, 256, 10, 10])\n",
      "torch.Size([32, 256, 10, 10])\n",
      "torch.Size([32, 256, 10, 10])\n",
      "torch.Size([32, 256, 10, 10])\n",
      "torch.Size([32, 256, 10, 10])\n",
      "torch.Size([32, 256, 10, 10])\n",
      "torch.Size([32, 256, 10, 10])\n",
      "torch.Size([32, 256, 10, 10])\n",
      "torch.Size([32, 256, 10, 10])\n",
      "torch.Size([32, 256, 10, 10])\n",
      "torch.Size([32, 256, 10, 10])\n",
      "torch.Size([32, 256, 10, 10])\n",
      "torch.Size([32, 256, 10, 10])\n",
      "torch.Size([32, 256, 10, 10])\n",
      "torch.Size([32, 256, 10, 10])\n",
      "torch.Size([32, 256, 10, 10])\n",
      "torch.Size([32, 256, 10, 10])\n",
      "torch.Size([32, 256, 10, 10])\n",
      "torch.Size([32, 256, 10, 10])\n",
      "torch.Size([32, 256, 10, 10])\n",
      "torch.Size([32, 256, 10, 10])\n",
      "torch.Size([32, 256, 10, 10])\n",
      "torch.Size([32, 256, 10, 10])\n",
      "torch.Size([32, 256, 10, 10])\n"
     ]
    },
    {
     "name": "stderr",
     "output_type": "stream",
     "text": [
      " 33%|███▎      | 4/12 [00:03<00:05,  1.35it/s]"
     ]
    },
    {
     "name": "stdout",
     "output_type": "stream",
     "text": [
      "torch.Size([11, 256, 10, 10])\n",
      "torch.Size([32, 256, 10, 10])\n",
      "torch.Size([32, 256, 10, 10])\n",
      "torch.Size([32, 256, 10, 10])\n",
      "torch.Size([32, 256, 10, 10])\n",
      "torch.Size([32, 256, 10, 10])\n",
      "torch.Size([32, 256, 10, 10])\n",
      "torch.Size([32, 256, 10, 10])\n",
      "torch.Size([32, 256, 10, 10])\n",
      "torch.Size([32, 256, 10, 10])\n",
      "torch.Size([32, 256, 10, 10])\n",
      "torch.Size([32, 256, 10, 10])\n",
      "torch.Size([32, 256, 10, 10])\n",
      "torch.Size([32, 256, 10, 10])\n",
      "torch.Size([32, 256, 10, 10])\n",
      "torch.Size([32, 256, 10, 10])\n",
      "torch.Size([32, 256, 10, 10])\n",
      "torch.Size([32, 256, 10, 10])\n",
      "torch.Size([32, 256, 10, 10])\n",
      "torch.Size([32, 256, 10, 10])\n",
      "torch.Size([32, 256, 10, 10])\n",
      "torch.Size([32, 256, 10, 10])\n",
      "torch.Size([32, 256, 10, 10])\n",
      "torch.Size([32, 256, 10, 10])\n",
      "torch.Size([32, 256, 10, 10])\n"
     ]
    },
    {
     "name": "stderr",
     "output_type": "stream",
     "text": [
      " 42%|████▏     | 5/12 [00:03<00:05,  1.39it/s]"
     ]
    },
    {
     "name": "stdout",
     "output_type": "stream",
     "text": [
      "torch.Size([32, 256, 10, 10])\n",
      "torch.Size([32, 256, 10, 10])\n",
      "torch.Size([11, 256, 10, 10])\n",
      "torch.Size([32, 256, 10, 10])\n",
      "torch.Size([32, 256, 10, 10])\n",
      "torch.Size([32, 256, 10, 10])\n",
      "torch.Size([32, 256, 10, 10])\n",
      "torch.Size([32, 256, 10, 10])\n",
      "torch.Size([32, 256, 10, 10])\n",
      "torch.Size([32, 256, 10, 10])\n",
      "torch.Size([32, 256, 10, 10])\n",
      "torch.Size([32, 256, 10, 10])\n",
      "torch.Size([32, 256, 10, 10])\n",
      "torch.Size([32, 256, 10, 10])\n",
      "torch.Size([32, 256, 10, 10])\n",
      "torch.Size([32, 256, 10, 10])\n",
      "torch.Size([32, 256, 10, 10])\n",
      "torch.Size([32, 256, 10, 10])\n",
      "torch.Size([32, 256, 10, 10])\n",
      "torch.Size([32, 256, 10, 10])\n",
      "torch.Size([32, 256, 10, 10])\n",
      "torch.Size([32, 256, 10, 10])\n",
      "torch.Size([32, 256, 10, 10])\n",
      "torch.Size([32, 256, 10, 10])\n",
      "torch.Size([32, 256, 10, 10])\n"
     ]
    },
    {
     "name": "stderr",
     "output_type": "stream",
     "text": [
      " 50%|█████     | 6/12 [00:04<00:04,  1.41it/s]"
     ]
    },
    {
     "name": "stdout",
     "output_type": "stream",
     "text": [
      "torch.Size([32, 256, 10, 10])\n",
      "torch.Size([32, 256, 10, 10])\n",
      "torch.Size([32, 256, 10, 10])\n",
      "torch.Size([32, 256, 10, 10])\n",
      "torch.Size([11, 256, 10, 10])\n",
      "torch.Size([32, 256, 10, 10])\n",
      "torch.Size([32, 256, 10, 10])\n",
      "torch.Size([32, 256, 10, 10])\n",
      "torch.Size([32, 256, 10, 10])\n",
      "torch.Size([32, 256, 10, 10])\n",
      "torch.Size([32, 256, 10, 10])\n",
      "torch.Size([32, 256, 10, 10])\n",
      "torch.Size([32, 256, 10, 10])\n",
      "torch.Size([32, 256, 10, 10])\n",
      "torch.Size([32, 256, 10, 10])\n",
      "torch.Size([32, 256, 10, 10])\n",
      "torch.Size([32, 256, 10, 10])\n",
      "torch.Size([32, 256, 10, 10])\n",
      "torch.Size([32, 256, 10, 10])\n",
      "torch.Size([32, 256, 10, 10])\n",
      "torch.Size([32, 256, 10, 10])\n",
      "torch.Size([32, 256, 10, 10])\n",
      "torch.Size([32, 256, 10, 10])\n",
      "torch.Size([32, 256, 10, 10])\n",
      "torch.Size([32, 256, 10, 10])\n"
     ]
    },
    {
     "name": "stderr",
     "output_type": "stream",
     "text": [
      " 58%|█████▊    | 7/12 [00:05<00:03,  1.42it/s]"
     ]
    },
    {
     "name": "stdout",
     "output_type": "stream",
     "text": [
      "torch.Size([32, 256, 10, 10])\n",
      "torch.Size([32, 256, 10, 10])\n",
      "torch.Size([32, 256, 10, 10])\n",
      "torch.Size([32, 256, 10, 10])\n",
      "torch.Size([32, 256, 10, 10])\n",
      "torch.Size([32, 256, 10, 10])\n",
      "torch.Size([11, 256, 10, 10])\n",
      "torch.Size([32, 256, 10, 10])\n",
      "torch.Size([32, 256, 10, 10])\n",
      "torch.Size([32, 256, 10, 10])\n",
      "torch.Size([32, 256, 10, 10])\n",
      "torch.Size([32, 256, 10, 10])\n",
      "torch.Size([32, 256, 10, 10])\n",
      "torch.Size([32, 256, 10, 10])\n",
      "torch.Size([32, 256, 10, 10])\n",
      "torch.Size([32, 256, 10, 10])\n",
      "torch.Size([32, 256, 10, 10])\n",
      "torch.Size([32, 256, 10, 10])\n",
      "torch.Size([32, 256, 10, 10])\n",
      "torch.Size([32, 256, 10, 10])\n",
      "torch.Size([32, 256, 10, 10])\n",
      "torch.Size([32, 256, 10, 10])\n",
      "torch.Size([32, 256, 10, 10])\n",
      "torch.Size([32, 256, 10, 10])\n",
      "torch.Size([32, 256, 10, 10])\n",
      "torch.Size([32, 256, 10, 10])\n",
      "torch.Size([32, 256, 10, 10])\n",
      "torch.Size([32, 256, 10, 10])\n",
      "torch.Size([32, 256, 10, 10])\n",
      "torch.Size([32, 256, 10, 10])\n",
      "torch.Size([32, 256, 10, 10])\n",
      "torch.Size([32, 256, 10, 10])\n",
      "torch.Size([32, 256, 10, 10])\n"
     ]
    },
    {
     "name": "stderr",
     "output_type": "stream",
     "text": [
      " 67%|██████▋   | 8/12 [00:05<00:02,  1.43it/s]"
     ]
    },
    {
     "name": "stdout",
     "output_type": "stream",
     "text": [
      "torch.Size([11, 256, 10, 10])\n",
      "torch.Size([32, 256, 10, 10])\n",
      "torch.Size([32, 256, 10, 10])\n",
      "torch.Size([32, 256, 10, 10])\n",
      "torch.Size([32, 256, 10, 10])\n",
      "torch.Size([32, 256, 10, 10])\n",
      "torch.Size([32, 256, 10, 10])\n",
      "torch.Size([32, 256, 10, 10])\n",
      "torch.Size([32, 256, 10, 10])\n",
      "torch.Size([32, 256, 10, 10])\n",
      "torch.Size([32, 256, 10, 10])\n",
      "torch.Size([32, 256, 10, 10])\n",
      "torch.Size([32, 256, 10, 10])\n",
      "torch.Size([32, 256, 10, 10])\n",
      "torch.Size([32, 256, 10, 10])\n",
      "torch.Size([32, 256, 10, 10])\n",
      "torch.Size([32, 256, 10, 10])\n",
      "torch.Size([32, 256, 10, 10])\n",
      "torch.Size([32, 256, 10, 10])\n",
      "torch.Size([32, 256, 10, 10])\n",
      "torch.Size([32, 256, 10, 10])\n",
      "torch.Size([32, 256, 10, 10])\n",
      "torch.Size([32, 256, 10, 10])\n",
      "torch.Size([32, 256, 10, 10])\n"
     ]
    },
    {
     "name": "stderr",
     "output_type": "stream",
     "text": [
      " 75%|███████▌  | 9/12 [00:06<00:02,  1.43it/s]"
     ]
    },
    {
     "name": "stdout",
     "output_type": "stream",
     "text": [
      "torch.Size([32, 256, 10, 10])\n",
      "torch.Size([32, 256, 10, 10])\n",
      "torch.Size([32, 256, 10, 10])\n",
      "torch.Size([11, 256, 10, 10])\n",
      "torch.Size([32, 256, 10, 10])\n",
      "torch.Size([32, 256, 10, 10])\n",
      "torch.Size([32, 256, 10, 10])\n",
      "torch.Size([32, 256, 10, 10])\n",
      "torch.Size([32, 256, 10, 10])\n",
      "torch.Size([32, 256, 10, 10])\n",
      "torch.Size([32, 256, 10, 10])\n",
      "torch.Size([32, 256, 10, 10])\n",
      "torch.Size([32, 256, 10, 10])\n",
      "torch.Size([32, 256, 10, 10])\n",
      "torch.Size([32, 256, 10, 10])\n",
      "torch.Size([32, 256, 10, 10])\n",
      "torch.Size([32, 256, 10, 10])\n",
      "torch.Size([32, 256, 10, 10])\n",
      "torch.Size([32, 256, 10, 10])\n",
      "torch.Size([32, 256, 10, 10])\n",
      "torch.Size([32, 256, 10, 10])\n",
      "torch.Size([32, 256, 10, 10])\n",
      "torch.Size([32, 256, 10, 10])\n",
      "torch.Size([32, 256, 10, 10])\n",
      "torch.Size([32, 256, 10, 10])\n"
     ]
    },
    {
     "name": "stderr",
     "output_type": "stream",
     "text": [
      " 83%|████████▎ | 10/12 [00:07<00:01,  1.43it/s]"
     ]
    },
    {
     "name": "stdout",
     "output_type": "stream",
     "text": [
      "torch.Size([32, 256, 10, 10])\n",
      "torch.Size([32, 256, 10, 10])\n",
      "torch.Size([32, 256, 10, 10])\n",
      "torch.Size([32, 256, 10, 10])\n",
      "torch.Size([32, 256, 10, 10])\n",
      "torch.Size([11, 256, 10, 10])\n",
      "torch.Size([32, 256, 10, 10])\n",
      "torch.Size([32, 256, 10, 10])\n",
      "torch.Size([32, 256, 10, 10])\n",
      "torch.Size([32, 256, 10, 10])\n",
      "torch.Size([32, 256, 10, 10])\n",
      "torch.Size([32, 256, 10, 10])\n",
      "torch.Size([32, 256, 10, 10])\n",
      "torch.Size([32, 256, 10, 10])\n",
      "torch.Size([32, 256, 10, 10])\n",
      "torch.Size([32, 256, 10, 10])\n",
      "torch.Size([32, 256, 10, 10])\n",
      "torch.Size([32, 256, 10, 10])\n",
      "torch.Size([32, 256, 10, 10])\n",
      "torch.Size([32, 256, 10, 10])\n",
      "torch.Size([32, 256, 10, 10])\n",
      "torch.Size([32, 256, 10, 10])\n",
      "torch.Size([32, 256, 10, 10])\n",
      "torch.Size([32, 256, 10, 10])\n",
      "torch.Size([32, 256, 10, 10])\n"
     ]
    },
    {
     "name": "stderr",
     "output_type": "stream",
     "text": [
      " 92%|█████████▏| 11/12 [00:07<00:00,  1.44it/s]"
     ]
    },
    {
     "name": "stdout",
     "output_type": "stream",
     "text": [
      "torch.Size([32, 256, 10, 10])\n",
      "torch.Size([32, 256, 10, 10])\n",
      "torch.Size([32, 256, 10, 10])\n",
      "torch.Size([32, 256, 10, 10])\n",
      "torch.Size([32, 256, 10, 10])\n",
      "torch.Size([32, 256, 10, 10])\n",
      "torch.Size([32, 256, 10, 10])\n",
      "torch.Size([11, 256, 10, 10])\n",
      "torch.Size([32, 256, 10, 10])\n",
      "torch.Size([32, 256, 10, 10])\n",
      "torch.Size([32, 256, 10, 10])\n",
      "torch.Size([32, 256, 10, 10])\n",
      "torch.Size([32, 256, 10, 10])\n",
      "torch.Size([32, 256, 10, 10])\n",
      "torch.Size([32, 256, 10, 10])\n",
      "torch.Size([32, 256, 10, 10])\n",
      "torch.Size([32, 256, 10, 10])\n",
      "torch.Size([32, 256, 10, 10])\n",
      "torch.Size([32, 256, 10, 10])\n",
      "torch.Size([32, 256, 10, 10])\n",
      "torch.Size([32, 256, 10, 10])\n",
      "torch.Size([32, 256, 10, 10])\n",
      "torch.Size([32, 256, 10, 10])\n",
      "torch.Size([32, 256, 10, 10])\n",
      "torch.Size([32, 256, 10, 10])\n",
      "torch.Size([32, 256, 10, 10])\n",
      "torch.Size([32, 256, 10, 10])\n",
      "torch.Size([32, 256, 10, 10])\n",
      "torch.Size([32, 256, 10, 10])\n",
      "torch.Size([32, 256, 10, 10])\n",
      "torch.Size([32, 256, 10, 10])\n",
      "torch.Size([32, 256, 10, 10])\n",
      "torch.Size([32, 256, 10, 10])\n"
     ]
    },
    {
     "name": "stderr",
     "output_type": "stream",
     "text": [
      "100%|██████████| 12/12 [00:08<00:00,  1.39it/s]"
     ]
    },
    {
     "name": "stdout",
     "output_type": "stream",
     "text": [
      "torch.Size([32, 256, 10, 10])\n",
      "torch.Size([11, 256, 10, 10])\n"
     ]
    },
    {
     "name": "stderr",
     "output_type": "stream",
     "text": [
      "\n"
     ]
    },
    {
     "data": {
      "text/html": [
       "<br/>Waiting for W&B process to finish, PID 649190<br/>Program ended successfully."
      ],
      "text/plain": [
       "<IPython.core.display.HTML object>"
      ]
     },
     "metadata": {},
     "output_type": "display_data"
    },
    {
     "data": {
      "application/vnd.jupyter.widget-view+json": {
       "model_id": "5c4b02e16ca441e8aa6519976972eb4a",
       "version_major": 2,
       "version_minor": 0
      },
      "text/plain": [
       "VBox(children=(Label(value=' 0.03MB of 0.03MB uploaded (0.00MB deduped)\\r'), FloatProgress(value=1.0, max=1.0)…"
      ]
     },
     "metadata": {},
     "output_type": "display_data"
    },
    {
     "data": {
      "text/html": [
       "Find user logs for this run at: <code>/home/indika/Programming/Projects/Python/Artifical-Intelligence/PyTorch/CNN/Weather-Clf/wandb/run-20210518_203424-3c4rx2nw/logs/debug.log</code>"
      ],
      "text/plain": [
       "<IPython.core.display.HTML object>"
      ]
     },
     "metadata": {},
     "output_type": "display_data"
    },
    {
     "data": {
      "text/html": [
       "Find internal logs for this run at: <code>/home/indika/Programming/Projects/Python/Artifical-Intelligence/PyTorch/CNN/Weather-Clf/wandb/run-20210518_203424-3c4rx2nw/logs/debug-internal.log</code>"
      ],
      "text/plain": [
       "<IPython.core.display.HTML object>"
      ]
     },
     "metadata": {},
     "output_type": "display_data"
    },
    {
     "data": {
      "text/html": [
       "<h3>Run summary:</h3><br/><style>\n",
       "    table.wandb td:nth-child(1) { padding: 0 10px; text-align: right }\n",
       "    </style><table class=\"wandb\">\n",
       "<tr><td>loss</td><td>1.79176</td></tr><tr><td>_runtime</td><td>15</td></tr><tr><td>_timestamp</td><td>1621350279</td></tr><tr><td>_step</td><td>323</td></tr></table>"
      ],
      "text/plain": [
       "<IPython.core.display.HTML object>"
      ]
     },
     "metadata": {},
     "output_type": "display_data"
    },
    {
     "data": {
      "text/html": [
       "<h3>Run history:</h3><br/><style>\n",
       "    table.wandb td:nth-child(1) { padding: 0 10px; text-align: right }\n",
       "    </style><table class=\"wandb\">\n",
       "<tr><td>loss</td><td>█▁▁▁▁▁▁▁▁▁▁▁▁▁▁▁▁▁▁▁▁▁▁▁▁▁▁▁▁▁▁▁▁▁▁▁▁▁▁▁</td></tr><tr><td>_runtime</td><td>▁▁▁▁▂▂▂▂▂▃▃▃▃▃▄▄▄▄▄▅▅▅▅▅▅▅▅▅▆▆▆▆▆▇▇▇▇▇██</td></tr><tr><td>_timestamp</td><td>▁▁▁▁▂▂▂▂▂▃▃▃▃▃▄▄▄▄▄▅▅▅▅▅▅▅▅▅▆▆▆▆▆▇▇▇▇▇██</td></tr><tr><td>_step</td><td>▁▁▁▂▂▂▂▂▂▃▃▃▃▃▃▄▄▄▄▄▅▅▅▅▅▅▆▆▆▆▆▇▇▇▇▇▇███</td></tr></table><br/>"
      ],
      "text/plain": [
       "<IPython.core.display.HTML object>"
      ]
     },
     "metadata": {},
     "output_type": "display_data"
    },
    {
     "data": {
      "text/html": [
       "Synced 6 W&B file(s), 0 media file(s), 2 artifact file(s) and 1 other file(s)"
      ],
      "text/plain": [
       "<IPython.core.display.HTML object>"
      ]
     },
     "metadata": {},
     "output_type": "display_data"
    },
    {
     "data": {
      "text/html": [
       "\n",
       "                    <br/>Synced <strong style=\"color:#cdcd00\">test-1</strong>: <a href=\"https://wandb.ai/ranuga-d/Weather-Clf/runs/3c4rx2nw\" target=\"_blank\">https://wandb.ai/ranuga-d/Weather-Clf/runs/3c4rx2nw</a><br/>\n",
       "                "
      ],
      "text/plain": [
       "<IPython.core.display.HTML object>"
      ]
     },
     "metadata": {},
     "output_type": "display_data"
    }
   ],
   "source": [
    "test_index += 1\n",
    "wandb.init(project=PROJECT_NAME,name=f'test-{test_index}')\n",
    "for _ in tqdm(range(EPOCHS)):\n",
    "    for i in range(0,len(X_train),BATCH_SIZE):\n",
    "        X_batch = X_train[i:i+BATCH_SIZE].view(-1,1,112,112).to(device)\n",
    "        y_batch = y_train[i:i+BATCH_SIZE].to(device)\n",
    "        model.to(device)\n",
    "        preds = model(X_batch.float())\n",
    "        preds.to(device)\n",
    "        loss = criterion(preds,torch.tensor(y_batch,dtype=torch.long))\n",
    "        optimizer.zero_grad()\n",
    "        loss.backward()\n",
    "        optimizer.step()\n",
    "        wandb.log({'loss':loss.item()})\n",
    "wandb.finish()"
   ]
  },
  {
   "cell_type": "code",
   "execution_count": 23,
   "metadata": {},
   "outputs": [
    {
     "name": "stdout",
     "output_type": "stream",
     "text": [
      "tensor(0, device='cuda:0')\n",
      "tensor(2, device='cuda:0')\n",
      "\n",
      "\n",
      "tensor(0, device='cuda:0')\n",
      "tensor(3, device='cuda:0')\n",
      "\n",
      "\n",
      "tensor(0, device='cuda:0')\n",
      "tensor(3, device='cuda:0')\n",
      "\n",
      "\n",
      "tensor(0, device='cuda:0')\n",
      "tensor(0, device='cuda:0')\n",
      "\n",
      "\n",
      "tensor(0, device='cuda:0')\n",
      "tensor(3, device='cuda:0')\n",
      "\n",
      "\n",
      "tensor(0, device='cuda:0')\n",
      "tensor(0, device='cuda:0')\n",
      "\n",
      "\n",
      "tensor(0, device='cuda:0')\n",
      "tensor(1, device='cuda:0')\n",
      "\n",
      "\n",
      "tensor(0, device='cuda:0')\n",
      "tensor(2, device='cuda:0')\n",
      "\n",
      "\n",
      "tensor(0, device='cuda:0')\n",
      "tensor(3, device='cuda:0')\n",
      "\n",
      "\n",
      "tensor(0, device='cuda:0')\n",
      "tensor(1, device='cuda:0')\n",
      "\n",
      "\n"
     ]
    }
   ],
   "source": [
    "for index in range(10):\n",
    "    print(torch.argmax(preds[index]))\n",
    "    print(y_batch[index])\n",
    "    print('\\n')"
   ]
  },
  {
   "cell_type": "code",
   "execution_count": null,
   "metadata": {},
   "outputs": [],
   "source": []
  }
 ],
 "metadata": {
  "kernelspec": {
   "display_name": "Python 3.7.3 64-bit ('base': conda)",
   "language": "python",
   "name": "python373jvsc74a57bd0210f9608a45c0278a93c9e0b10db32a427986ab48cfc0d20c139811eb78c4bbc"
  },
  "language_info": {
   "codemirror_mode": {
    "name": "ipython",
    "version": 3
   },
   "file_extension": ".py",
   "mimetype": "text/x-python",
   "name": "python",
   "nbconvert_exporter": "python",
   "pygments_lexer": "ipython3",
   "version": "3.7.3"
  }
 },
 "nbformat": 4,
 "nbformat_minor": 2
}
